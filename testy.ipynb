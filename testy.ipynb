{
 "cells": [
  {
   "cell_type": "markdown",
   "id": "16cfd7e3",
   "metadata": {},
   "source": [
    "#\n",
    "# Name                    Version                   Build  Channel\n",
    "bzip2                     1.0.8                h2bbff1b_6\n",
    "ca-certificates           2025.2.25            haa95532_0\n",
    "expat                     2.7.1                h8ddb27b_0\n",
    "libffi                    3.4.4                hd77b12b_1\n",
    "openssl                   3.0.17               h35632f6_0\n",
    "pip                       25.1               pyhc872135_2\n",
    "python                    3.11.13              h981015d_0\n",
    "setuptools                78.1.1          py311haa95532_0\n",
    "sqlite                    3.50.2               hda9a48d_1\n",
    "tk                        8.6.14               h5e9d12e_1\n",
    "tzdata                    2025b                h04d1e81_0\n",
    "ucrt                      10.0.22621.0         haa95532_0\n",
    "vc                        14.3                h2df5915_10\n",
    "vc14_runtime              14.44.35208         h4927774_10\n",
    "vs2015_runtime            14.44.35208         ha6b5a95_10\n",
    "wheel                     0.45.1          py311haa95532_0\n",
    "xz                        5.6.4                h4754444_1\n",
    "zlib                      1.2.13               h8cc25b3_1"
   ]
  },
  {
   "cell_type": "code",
   "execution_count": 27,
   "id": "10af0e58",
   "metadata": {},
   "outputs": [],
   "source": [
    "# Aplikacja do nauki języka angielskiego z wykorzystaniem OpenAI\n",
    "# import instructor  # import jest wymagany do generowania słówek i wskazówek\n",
    "import streamlit as st # Wykorzystuje Streamlit do stworzenia prostego interfejsu,\n",
    "from dotenv import dotenv_values # dotenv do zarządzania konfiguracją i przechowywania klucza API,\n",
    "from openai import OpenAI # OpenAI do generowania pytań i odpowiedzi,\n",
    "import speech_recognition as sr # do rozpoznawania mowy"
   ]
  },
  {
   "cell_type": "markdown",
   "id": "82757b02",
   "metadata": {},
   "source": [
    "v1 - możliwość dodawania wiadomości w języku polskim i tłumaczenia na język angielski"
   ]
  },
  {
   "cell_type": "code",
   "execution_count": 28,
   "id": "940b52cd",
   "metadata": {},
   "outputs": [],
   "source": [
    "# Wczytanie zmiennych środowiskowych\n",
    "def load_environment():\n",
    "    \"\"\"Ładuje zmienne środowiskowe z pliku .env\"\"\"\n",
    "    env = dotenv_values(\".env\")\n",
    "    if not env.get(\"OPENAI_API_KEY\"):\n",
    "        st.error(\"❌ Brak klucza API OpenAI w pliku .env\")\n",
    "        st.stop()\n",
    "    return env\n",
    "\n",
    "env = load_environment()  # <-- dodaj to wywołanie funkcji\n",
    "client = OpenAI(api_key=env.get(\"OPENAI_API_KEY\"))\n"
   ]
  },
  {
   "cell_type": "code",
   "execution_count": 29,
   "id": "0deb7b8e",
   "metadata": {},
   "outputs": [
    {
     "name": "stderr",
     "output_type": "stream",
     "text": [
      "2025-09-05 14:33:02.075 Thread 'MainThread': missing ScriptRunContext! This warning can be ignored when running in bare mode.\n",
      "2025-09-05 14:33:02.076 Thread 'MainThread': missing ScriptRunContext! This warning can be ignored when running in bare mode.\n",
      "2025-09-05 14:33:02.076 Thread 'MainThread': missing ScriptRunContext! This warning can be ignored when running in bare mode.\n",
      "2025-09-05 14:33:02.078 Thread 'MainThread': missing ScriptRunContext! This warning can be ignored when running in bare mode.\n",
      "2025-09-05 14:33:02.080 Thread 'MainThread': missing ScriptRunContext! This warning can be ignored when running in bare mode.\n",
      "2025-09-05 14:33:02.081 Thread 'MainThread': missing ScriptRunContext! This warning can be ignored when running in bare mode.\n",
      "2025-09-05 14:33:02.083 Thread 'MainThread': missing ScriptRunContext! This warning can be ignored when running in bare mode.\n",
      "2025-09-05 14:33:02.085 Thread 'MainThread': missing ScriptRunContext! This warning can be ignored when running in bare mode.\n",
      "2025-09-05 14:33:02.086 Thread 'MainThread': missing ScriptRunContext! This warning can be ignored when running in bare mode.\n",
      "2025-09-05 14:33:02.087 Thread 'MainThread': missing ScriptRunContext! This warning can be ignored when running in bare mode.\n"
     ]
    }
   ],
   "source": [
    "# Lista obsługiwanych języków ( można rozszerzyć)\n",
    "supported_languages = [\"angielski\", \"polski\", \"niemiecki\", \"francuski\", \"hiszpański\", \"włoski\"]\n",
    "\n",
    "st.title(\"Jack - osobisty asystent nauki języków\")\n",
    "\n",
    "with st.sidebar:\n",
    "    tool_language = st.selectbox(\n",
    "        \"Wybierz narzędzie\",\n",
    "        [\n",
    "            \"Translator\", # tłumacz ZROBIONE\n",
    "            \"Belfer\", # sprawdza poprawność zdań ZROBIONE\n",
    "            \"Jak powiem?\", # pomaga budować zagadnienia\n",
    "            \"Dialog\" # prowadzi dialog (dorobić wybór tematów.)\n",
    "        ], key=\"tool_language\"\n",
    "    )"
   ]
  },
  {
   "cell_type": "code",
   "execution_count": null,
   "id": "12b47691",
   "metadata": {},
   "outputs": [],
   "source": [
    "na razie nieużywana\n",
    "\n",
    "# Funkcja do rozpoznawania mowy za pomocą Whisper API\n",
    "def recognize_speech_whisper(audio_file):\n",
    "    with open(audio_file, \"rb\") as file:\n",
    "        transcription = client.audio.transcriptions.create(\n",
    "            model=\"whisper-1\",\n",
    "            file=file,\n",
    "            language=\"pl\"  # Kod języka, np. \"en\" dla angielskiego\n",
    "        )\n",
    "    return transcription.text"
   ]
  },
  {
   "cell_type": "code",
   "execution_count": 30,
   "id": "1e165270",
   "metadata": {},
   "outputs": [],
   "source": [
    "# Funkcja do rozpoznawania mowy za pomocą biblioteki SpeechRecognition i mikrofonu (potrzebny mikrofon) \n",
    "# ustawienie języka kodu dla rozpoznawania mowy\n",
    "language_code_map = {\n",
    "    \"angielski\": \"en-US\",\n",
    "    \"polski\": \"pl-PL\",\n",
    "    \"niemiecki\": \"de-DE\",\n",
    "    \"francuski\": \"fr-FR\",\n",
    "    \"hiszpański\": \"es-ES\",\n",
    "    \"włoski\": \"it-IT\"\n",
    "}       \n",
    "language_code = language_code_map.get(language_in, \"pl-PL\")  # Domyślnie polski   \n",
    "def recognize_speech(language=language_code):\n",
    "    recognizer = sr.Recognizer()\n",
    "    with sr.Microphone() as source:\n",
    "        st.write(\"🎤 Mów teraz...\")\n",
    "        audio = recognizer.listen(source)\n",
    "        try:\n",
    "            text = recognizer.recognize_google(audio, language=language)\n",
    "            return text\n",
    "        except sr.UnknownValueError:\n",
    "            return \"Nie udało się rozpoznać mowy.\"\n",
    "        except sr.RequestError as e:\n",
    "            return f\"Błąd podczas rozpoznawania: {e}\""
   ]
  },
  {
   "cell_type": "markdown",
   "id": "c0b51f61",
   "metadata": {},
   "source": []
  },
  {
   "cell_type": "code",
   "execution_count": 37,
   "id": "99daaa78",
   "metadata": {},
   "outputs": [
    {
     "name": "stderr",
     "output_type": "stream",
     "text": [
      "2025-09-05 14:35:04.700 Thread 'MainThread': missing ScriptRunContext! This warning can be ignored when running in bare mode.\n",
      "2025-09-05 14:35:04.700 Thread 'MainThread': missing ScriptRunContext! This warning can be ignored when running in bare mode.\n",
      "2025-09-05 14:35:04.701 Thread 'MainThread': missing ScriptRunContext! This warning can be ignored when running in bare mode.\n",
      "2025-09-05 14:35:04.703 Thread 'MainThread': missing ScriptRunContext! This warning can be ignored when running in bare mode.\n",
      "2025-09-05 14:35:04.704 Thread 'MainThread': missing ScriptRunContext! This warning can be ignored when running in bare mode.\n",
      "2025-09-05 14:35:04.706 Thread 'MainThread': missing ScriptRunContext! This warning can be ignored when running in bare mode.\n",
      "2025-09-05 14:35:04.707 Thread 'MainThread': missing ScriptRunContext! This warning can be ignored when running in bare mode.\n",
      "2025-09-05 14:35:04.708 Thread 'MainThread': missing ScriptRunContext! This warning can be ignored when running in bare mode.\n",
      "2025-09-05 14:35:04.709 Thread 'MainThread': missing ScriptRunContext! This warning can be ignored when running in bare mode.\n",
      "2025-09-05 14:35:04.710 Thread 'MainThread': missing ScriptRunContext! This warning can be ignored when running in bare mode.\n",
      "2025-09-05 14:35:04.712 Thread 'MainThread': missing ScriptRunContext! This warning can be ignored when running in bare mode.\n",
      "2025-09-05 14:35:04.713 Thread 'MainThread': missing ScriptRunContext! This warning can be ignored when running in bare mode.\n",
      "2025-09-05 14:35:04.714 Thread 'MainThread': missing ScriptRunContext! This warning can be ignored when running in bare mode.\n",
      "2025-09-05 14:35:04.715 Thread 'MainThread': missing ScriptRunContext! This warning can be ignored when running in bare mode.\n",
      "2025-09-05 14:35:04.717 Thread 'MainThread': missing ScriptRunContext! This warning can be ignored when running in bare mode.\n",
      "2025-09-05 14:35:04.718 Thread 'MainThread': missing ScriptRunContext! This warning can be ignored when running in bare mode.\n",
      "2025-09-05 14:35:04.718 Thread 'MainThread': missing ScriptRunContext! This warning can be ignored when running in bare mode.\n",
      "2025-09-05 14:35:04.719 Thread 'MainThread': missing ScriptRunContext! This warning can be ignored when running in bare mode.\n",
      "2025-09-05 14:35:04.720 Thread 'MainThread': missing ScriptRunContext! This warning can be ignored when running in bare mode.\n",
      "2025-09-05 14:35:04.721 Thread 'MainThread': missing ScriptRunContext! This warning can be ignored when running in bare mode.\n",
      "2025-09-05 14:35:04.721 Thread 'MainThread': missing ScriptRunContext! This warning can be ignored when running in bare mode.\n",
      "2025-09-05 14:35:04.723 Thread 'MainThread': missing ScriptRunContext! This warning can be ignored when running in bare mode.\n",
      "2025-09-05 14:35:04.724 Thread 'MainThread': missing ScriptRunContext! This warning can be ignored when running in bare mode.\n",
      "2025-09-05 14:35:04.725 Thread 'MainThread': missing ScriptRunContext! This warning can be ignored when running in bare mode.\n",
      "2025-09-05 14:35:04.726 Thread 'MainThread': missing ScriptRunContext! This warning can be ignored when running in bare mode.\n",
      "2025-09-05 14:35:04.727 Thread 'MainThread': missing ScriptRunContext! This warning can be ignored when running in bare mode.\n",
      "2025-09-05 14:35:04.728 Thread 'MainThread': missing ScriptRunContext! This warning can be ignored when running in bare mode.\n",
      "2025-09-05 14:35:04.730 Thread 'MainThread': missing ScriptRunContext! This warning can be ignored when running in bare mode.\n",
      "2025-09-05 14:35:04.731 Thread 'MainThread': missing ScriptRunContext! This warning can be ignored when running in bare mode.\n",
      "2025-09-05 14:35:04.732 Thread 'MainThread': missing ScriptRunContext! This warning can be ignored when running in bare mode.\n"
     ]
    }
   ],
   "source": [
    "# Translator\n",
    "if tool_language == \"Translator\":\n",
    "    st.header(\"Translator językowy\")\n",
    "\n",
    "     # wybór języka wprowadzonego tekstu\n",
    "    language_in= st.selectbox(\"Wybierz język tekstu do tłumaczenia:\", supported_languages, key=\"language_in\")\n",
    "\n",
    "\n",
    "    # Pole tekstowe do wpisania wiadomości\n",
    "    translate_text = st.text_area(\"Wpisz tekst do tłumaczenia w obsługiwanym języku:\")\n",
    "\n",
    "    # wybór języka tłumaczenia\n",
    "    language_out= st.selectbox(\"Wybierz język tłumaczenia:\", supported_languages, key=\"language_out\")\n",
    "\n",
    "  \n",
    "\n",
    "    \n",
    "    if st.button(\"Przetłumacz na wybrany język\"):\n",
    "        if translate_text is None or (hasattr(translate_text, \"strip\") and not translate_text.strip()) or translate_text == \"Nie udało się rozpoznać mowy.\" or translate_text.startswith(\"Błąd podczas rozpoznawania:\"):\n",
    "            st.warning(\"Proszę wpisać tekst do przetłumaczenia lub nagrać rozmowę.\")\n",
    "            \n",
    "        else:\n",
    "            # Wywołanie OpenAI API do tłumaczenia\n",
    "            prompt = f\"Przetłumacz na {language_out} następujący tekst:\\n{translate_text}\"\n",
    "            try:\n",
    "                response = client.chat.completions.create(\n",
    "                    model=\"gpt-4o-mini-transcribe\",\n",
    "                    messages=[\n",
    "                        {\"role\": \"system\", \"content\": f\"Jesteś pomocnym tłumaczem zjęzyka {language_in} na język {language_out}. Jeśli tekst jest już w wybranym języku {language_out}, odpowiedz 'Tekst jest już w wybranym języku.', Jeśli tekst jest w innym języku niż {supported_languages}, odpowiedz 'Język podanego tekstu nie jest obsługiwany.' \"},\n",
    "                        {\"role\": \"user\", \"content\": prompt}\n",
    "                    ],\n",
    "                    max_tokens=500,\n",
    "                    temperature=0.1,\n",
    "                )\n",
    "                content = response.choices[0].message.content\n",
    "                translation = content.strip() if content is not None else \"\"\n",
    "                st.subheader(f\"Tłumaczenie na {language_out}:\")\n",
    "                st.write(translation)\n",
    "            except Exception as e:\n",
    "                st.error(f\"Wystąpił błąd podczas tłumaczenia: {e}\")\n",
    "\n",
    "    \n"
   ]
  },
  {
   "cell_type": "code",
   "execution_count": 36,
   "id": "bebb79f6",
   "metadata": {},
   "outputs": [
    {
     "name": "stderr",
     "output_type": "stream",
     "text": [
      "2025-09-05 14:34:45.057 Thread 'MainThread': missing ScriptRunContext! This warning can be ignored when running in bare mode.\n",
      "2025-09-05 14:34:45.058 Thread 'MainThread': missing ScriptRunContext! This warning can be ignored when running in bare mode.\n",
      "2025-09-05 14:34:45.058 Thread 'MainThread': missing ScriptRunContext! This warning can be ignored when running in bare mode.\n"
     ]
    },
    {
     "name": "stdout",
     "output_type": "stream",
     "text": [
      "directions to\n"
     ]
    }
   ],
   "source": [
    "# Sekcja rozpoznawania mowy\n",
    "    #if st.button(\"Nagraj mowę\"):\n",
    "translate_text = recognize_speech(language=language_code)  # Zmień kod języka w zależności od wyboru\n",
    "# st.text_area(\"Rozpoznany tekst:\", value=recognized_text, key=\"recognized_text\")\n",
    "print(translate_text)"
   ]
  },
  {
   "cell_type": "code",
   "execution_count": 20,
   "id": "429a6006",
   "metadata": {},
   "outputs": [
    {
     "name": "stdout",
     "output_type": "stream",
     "text": [
      "angielski\n"
     ]
    }
   ],
   "source": [
    "print(language_in)\n"
   ]
  },
  {
   "cell_type": "code",
   "execution_count": null,
   "id": "1942b7c7",
   "metadata": {},
   "outputs": [],
   "source": []
  }
 ],
 "metadata": {
  "kernelspec": {
   "display_name": "language_helper",
   "language": "python",
   "name": "python3"
  },
  "language_info": {
   "codemirror_mode": {
    "name": "ipython",
    "version": 3
   },
   "file_extension": ".py",
   "mimetype": "text/x-python",
   "name": "python",
   "nbconvert_exporter": "python",
   "pygments_lexer": "ipython3",
   "version": "3.13.5"
  }
 },
 "nbformat": 4,
 "nbformat_minor": 5
}
